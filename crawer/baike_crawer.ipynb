{
 "cells": [
  {
   "cell_type": "code",
   "execution_count": 1,
   "metadata": {},
   "outputs": [],
   "source": [
    "from bs4 import BeautifulSoup\n",
    "from urllib.request import urlopen\n",
    "import re\n",
    "import random"
   ]
  },
  {
   "cell_type": "code",
   "execution_count": 2,
   "metadata": {},
   "outputs": [],
   "source": [
    "base_url = \"https://baike.baidu.com\"\n",
    "his = [\"/item/%E7%BD%91%E7%BB%9C%E7%88%AC%E8%99%AB/5162711\"]"
   ]
  },
  {
   "cell_type": "code",
   "execution_count": 4,
   "metadata": {},
   "outputs": [
    {
     "name": "stdout",
     "output_type": "stream",
     "text": [
      "网络爬虫     url:  /item/%E7%BD%91%E7%BB%9C%E7%88%AC%E8%99%AB/5162711\n",
      "['/item/%E7%BD%91%E7%BB%9C%E7%88%AC%E8%99%AB/5162711', '/item/%E8%B6%85%E6%96%87%E6%9C%AC']\n"
     ]
    }
   ],
   "source": [
    "url = base_url + his[-1]\n",
    "\n",
    "html = urlopen(url).read().decode('utf-8')\n",
    "soup = BeautifulSoup(html, features='lxml')\n",
    "print(soup.find('h1').get_text(), '    url: ', his[-1])\n",
    "# find valid urls\n",
    "sub_urls = soup.find_all(\"a\", {\"target\": \"_blank\", \"href\": re.compile(\"/item/(%.{2})+$\")})\n",
    "\n",
    "if len(sub_urls) != 0:\n",
    "    his.append(random.sample(sub_urls, 1)[0]['href'])\n",
    "else:\n",
    "    # no valid sub link found\n",
    "    his.pop()\n",
    "print(his)\n"
   ]
  },
  {
   "cell_type": "code",
   "execution_count": 5,
   "metadata": {},
   "outputs": [
    {
     "name": "stdout",
     "output_type": "stream",
     "text": [
      "0 超文本     url:  /item/%E8%B6%85%E6%96%87%E6%9C%AC\n",
      "1 软件     url:  /item/%E8%BD%AF%E4%BB%B6\n",
      "2 微软     url:  /item/%E5%BE%AE%E8%BD%AF%E5%85%AC%E5%8F%B8\n",
      "3 微软     url:  /item/%E5%BE%AE%E8%BD%AF\n",
      "4 微软     url:  /item/%E5%BE%AE%E8%BD%AF%E5%85%AC%E5%8F%B8\n",
      "5 数据库软件     url:  /item/%E6%95%B0%E6%8D%AE%E5%BA%93%E8%BD%AF%E4%BB%B6\n",
      "6 事务     url:  /item/%E4%BA%8B%E5%8A%A1\n",
      "7 并发控制     url:  /item/%E5%B9%B6%E5%8F%91%E6%8E%A7%E5%88%B6\n",
      "8 程序设计     url:  /item/%E7%A8%8B%E5%BA%8F%E8%AE%BE%E8%AE%A1\n",
      "9 汇编语言     url:  /item/%E6%B1%87%E7%BC%96%E8%AF%AD%E8%A8%80\n",
      "10 电子工业出版社     url:  /item/%E7%94%B5%E5%AD%90%E5%B7%A5%E4%B8%9A%E5%87%BA%E7%89%88%E7%A4%BE\n",
      "11 市场调研     url:  /item/%E5%B8%82%E5%9C%BA%E8%B0%83%E7%A0%94\n",
      "12 目标市场     url:  /item/%E7%9B%AE%E6%A0%87%E5%B8%82%E5%9C%BA\n",
      "13 细分市场     url:  /item/%E7%BB%86%E5%88%86%E5%B8%82%E5%9C%BA\n",
      "14 公司形象     url:  /item/%E5%85%AC%E5%8F%B8%E5%BD%A2%E8%B1%A1\n",
      "15 细分市场     url:  /item/%E7%BB%86%E5%88%86%E5%B8%82%E5%9C%BA\n",
      "16 目标市场     url:  /item/%E7%9B%AE%E6%A0%87%E5%B8%82%E5%9C%BA\n",
      "17 营销策略     url:  /item/%E8%90%A5%E9%94%80%E7%AD%96%E7%95%A5\n",
      "18 约翰·麦卡锡     url:  /item/%E9%BA%A6%E5%8D%A1%E9%94%A1\n",
      "19 递归     url:  /item/%E9%80%92%E5%BD%92\n"
     ]
    }
   ],
   "source": [
    "for i in range(20):\n",
    "    url = base_url + his[-1]\n",
    "\n",
    "    html = urlopen(url).read().decode('utf-8')\n",
    "    soup = BeautifulSoup(html, features='lxml')\n",
    "    print(i, soup.find('h1').get_text(), '    url: ', his[-1])\n",
    "\n",
    "    # find valid urls\n",
    "    sub_urls = soup.find_all(\"a\", {\"target\": \"_blank\", \"href\": re.compile(\"/item/(%.{2})+$\")})\n",
    "\n",
    "    if len(sub_urls) != 0:\n",
    "        his.append(random.sample(sub_urls, 1)[0]['href'])\n",
    "    else:\n",
    "        # no valid sub link found\n",
    "        his.pop()\n"
   ]
  },
  {
   "cell_type": "code",
   "execution_count": null,
   "metadata": {},
   "outputs": [],
   "source": []
  }
 ],
 "metadata": {
  "kernelspec": {
   "display_name": "Python 3",
   "language": "python",
   "name": "python3"
  },
  "language_info": {
   "codemirror_mode": {
    "name": "ipython",
    "version": 3
   },
   "file_extension": ".py",
   "mimetype": "text/x-python",
   "name": "python",
   "nbconvert_exporter": "python",
   "pygments_lexer": "ipython3",
   "version": "3.6.4"
  }
 },
 "nbformat": 4,
 "nbformat_minor": 2
}
